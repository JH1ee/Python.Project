{
 "cells": [
  {
   "cell_type": "code",
   "execution_count": 2,
   "metadata": {},
   "outputs": [
    {
     "name": "stdout",
     "output_type": "stream",
     "text": [
      "Collecting pyupbitNote: you may need to restart the kernel to use updated packages.\n",
      "\n",
      "  Downloading pyupbit-0.2.14-py3-none-any.whl (17 kB)\n",
      "Requirement already satisfied: requests in c:\\users\\lee\\anaconda3\\lib\\site-packages (from pyupbit) (2.24.0)\n",
      "Collecting pyjwt>=2.0.0\n",
      "  Downloading PyJWT-2.0.1-py3-none-any.whl (15 kB)\n",
      "Requirement already satisfied: pandas in c:\\users\\lee\\anaconda3\\lib\\site-packages (from pyupbit) (1.1.3)\n",
      "Collecting websockets\n",
      "  Downloading websockets-8.1-cp38-cp38-win_amd64.whl (66 kB)\n",
      "Requirement already satisfied: urllib3!=1.25.0,!=1.25.1,<1.26,>=1.21.1 in c:\\users\\lee\\anaconda3\\lib\\site-packages (from requests->pyupbit) (1.25.11)\n",
      "Requirement already satisfied: chardet<4,>=3.0.2 in c:\\users\\lee\\anaconda3\\lib\\site-packages (from requests->pyupbit) (3.0.4)\n",
      "Requirement already satisfied: idna<3,>=2.5 in c:\\users\\lee\\anaconda3\\lib\\site-packages (from requests->pyupbit) (2.10)\n",
      "Requirement already satisfied: certifi>=2017.4.17 in c:\\users\\lee\\anaconda3\\lib\\site-packages (from requests->pyupbit) (2020.6.20)\n",
      "Requirement already satisfied: python-dateutil>=2.7.3 in c:\\users\\lee\\anaconda3\\lib\\site-packages (from pandas->pyupbit) (2.8.1)\n",
      "Requirement already satisfied: numpy>=1.15.4 in c:\\users\\lee\\anaconda3\\lib\\site-packages (from pandas->pyupbit) (1.19.2)\n",
      "Requirement already satisfied: pytz>=2017.2 in c:\\users\\lee\\anaconda3\\lib\\site-packages (from pandas->pyupbit) (2020.1)\n",
      "Requirement already satisfied: six>=1.5 in c:\\users\\lee\\anaconda3\\lib\\site-packages (from python-dateutil>=2.7.3->pandas->pyupbit) (1.15.0)\n",
      "Installing collected packages: pyjwt, websockets, pyupbit\n",
      "Successfully installed pyjwt-2.0.1 pyupbit-0.2.14 websockets-8.1\n"
     ]
    }
   ],
   "source": [
    "pip install pyupbit"
   ]
  },
  {
   "cell_type": "code",
   "execution_count": 3,
   "metadata": {},
   "outputs": [
    {
     "name": "stdout",
     "output_type": "stream",
     "text": [
      "<class 'pyupbit.exchange_api.Upbit'>\n"
     ]
    }
   ],
   "source": [
    "import pyupbit\n",
    "print(pyupbit.Upbit)"
   ]
  },
  {
   "cell_type": "code",
   "execution_count": 4,
   "metadata": {},
   "outputs": [
    {
     "name": "stdout",
     "output_type": "stream",
     "text": [
      "['KRW-BTC', 'KRW-ETH', 'BTC-ETH', 'BTC-LTC', 'BTC-XRP', 'BTC-ETC', 'BTC-OMG', 'BTC-CVC', 'BTC-DGB', 'BTC-SC', 'BTC-SNT', 'BTC-WAVES', 'BTC-NMR', 'BTC-XEM', 'BTC-LBC', 'BTC-QTUM', 'BTC-NXT', 'BTC-BAT', 'BTC-LSK', 'BTC-RDD', 'BTC-STEEM', 'BTC-DOGE', 'BTC-BNT', 'BTC-XLM', 'BTC-ARDR', 'BTC-KMD', 'BTC-ARK', 'BTC-ADX', 'BTC-SYS', 'BTC-ANT', 'BTC-STORJ', 'BTC-GRS', 'BTC-REP', 'BTC-RLC', 'BTC-EMC2', 'USDT-BTC', 'USDT-ETH', 'USDT-LTC', 'USDT-XRP', 'USDT-ETC', 'KRW-NEO', 'KRW-MTL', 'KRW-LTC', 'KRW-XRP', 'KRW-ETC', 'KRW-OMG', 'KRW-SNT', 'KRW-WAVES', 'KRW-XEM', 'KRW-QTUM', 'KRW-LSK', 'KRW-STEEM', 'KRW-XLM', 'KRW-ARDR', 'KRW-KMD', 'KRW-ARK', 'KRW-STORJ', 'KRW-GRS', 'KRW-REP', 'KRW-EMC2', 'KRW-ADA', 'BTC-ADA', 'BTC-MANA', 'USDT-OMG', 'KRW-SBD', 'BTC-SBD', 'BTC-RCN', 'KRW-POWR', 'BTC-POWR', 'KRW-BTG', 'USDT-ADA', 'BTC-DNT', 'BTC-IGNIS', 'BTC-ZRX', 'BTC-TRX', 'BTC-TUSD', 'BTC-LRC', 'KRW-ICX', 'KRW-EOS', 'BTC-DMT', 'USDT-TUSD', 'KRW-TRX', 'BTC-POLY', 'BTC-PRO', 'USDT-SC', 'USDT-TRX', 'KRW-SC', 'KRW-IGNIS', 'KRW-ONT', 'KRW-ZIL', 'KRW-POLY', 'KRW-ZRX', 'KRW-LOOM', 'BTC-BCH', 'USDT-BCH', 'KRW-BCH', 'BTC-MFT', 'BTC-LOOM', 'KRW-ADX', 'KRW-BAT', 'KRW-IOST', 'BTC-RFR', 'KRW-DMT', 'KRW-RFR', 'USDT-DGB', 'KRW-CVC', 'KRW-IQ', 'KRW-IOTA', 'BTC-RVN', 'BTC-BFT', 'BTC-GO', 'BTC-UPP', 'BTC-ENJ', 'KRW-MFT', 'BTC-EDR', 'KRW-ONG', 'KRW-GAS', 'BTC-MTL', 'KRW-UPP', 'KRW-ELF', 'USDT-DOGE', 'USDT-ZRX', 'USDT-RVN', 'USDT-BAT', 'KRW-KNC', 'BTC-PAX', 'BTC-MOC', 'BTC-ZIL', 'KRW-BSV', 'BTC-BSV', 'BTC-IOST', 'KRW-THETA', 'BTC-NCASH', 'KRW-EDR', 'BTC-DENT', 'KRW-QKC', 'BTC-ELF', 'KRW-BTT', 'BTC-BTT', 'BTC-VITE', 'BTC-IOTX', 'BTC-SOLVE', 'BTC-NKN', 'BTC-META', 'KRW-MOC', 'BTC-ANKR', 'BTC-CRO', 'KRW-ENJ', 'KRW-TFUEL', 'BTC-FSN', 'KRW-MANA', 'KRW-ANKR', 'BTC-ORBS', 'BTC-AERGO', 'BTC-PI', 'KRW-AERGO', 'KRW-ATOM', 'KRW-TT', 'KRW-CRE', 'KRW-SOLVE', 'BTC-ATOM', 'BTC-STPT', 'KRW-MBL', 'BTC-LAMB', 'BTC-EOS', 'BTC-LUNA', 'BTC-DAI', 'BTC-MKR', 'BTC-BORA', 'KRW-TSHP', 'BTC-TSHP', 'KRW-WAXP', 'BTC-WAXP', 'KRW-HBAR', 'KRW-MED', 'BTC-MED', 'BTC-MLK', 'KRW-MLK', 'BTC-PXL', 'KRW-STPT', 'BTC-VET', 'KRW-ORBS', 'BTC-CHZ', 'KRW-VET', 'BTC-FX', 'BTC-OGN', 'KRW-CHZ', 'KRW-PXL', 'BTC-ITAM', 'BTC-XTZ', 'BTC-HIVE', 'BTC-HBD', 'BTC-OBSR', 'BTC-DKA', 'KRW-STMX', 'BTC-STMX', 'BTC-AHT', 'BTC-PCI', 'BTC-RINGX', 'KRW-DKA', 'BTC-LINK', 'KRW-HIVE', 'KRW-KAVA', 'BTC-KAVA', 'KRW-AHT', 'KRW-LINK', 'KRW-XTZ', 'KRW-BORA', 'BTC-JST', 'BTC-CHR', 'BTC-DAD', 'BTC-TON', 'KRW-JST', 'BTC-CTSI', 'BTC-DOT', 'KRW-CRO', 'BTC-COMP', 'BTC-SXP', 'BTC-HUNT', 'KRW-TON', 'BTC-ONIT', 'BTC-CRV', 'BTC-ALGO', 'BTC-RSR', 'KRW-SXP', 'BTC-OXT', 'BTC-PLA', 'KRW-LAMB', 'KRW-HUNT', 'BTC-MARO', 'KRW-MARO', 'BTC-SAND', 'BTC-SUN', 'KRW-PLA', 'KRW-DOT', 'BTC-SRM', 'BTC-QTCON', 'BTC-MVL', 'KRW-SRM', 'KRW-MVL', 'BTC-GXC', 'KRW-PCI', 'BTC-AQT', 'BTC-AXS', 'BTC-STRAX', 'KRW-STRAX', 'KRW-AQT', 'BTC-BCHA', 'KRW-BCHA', 'BTC-GLM', 'KRW-GLM', 'KRW-QTCON', 'BTC-FCT2', 'BTC-SSX', 'KRW-SSX', 'KRW-META', 'KRW-OBSR', 'KRW-FCT2', 'BTC-FIL', 'KRW-LBC', 'BTC-UNI', 'BTC-BASIC', 'BTC-INJ', 'BTC-PROM', 'BTC-VAL', 'BTC-PSG', 'BTC-JUV', 'BTC-CBK', 'BTC-FOR', 'KRW-CBK', 'BTC-BFC', 'BTC-LINA', 'BTC-HUM', 'BTC-PICA', 'BTC-CELO', 'KRW-SAND', 'KRW-HUM', 'BTC-IQ', 'BTC-STX', 'KRW-DOGE', 'BTC-NEAR', 'BTC-AUCTION', 'BTC-DAWN', 'BTC-FLOW', 'BTC-STRK', 'KRW-STRK', 'BTC-PUNDIX', 'KRW-PUNDIX', 'KRW-FLOW', 'KRW-DAWN', 'KRW-AXS', 'KRW-STX', 'BTC-GRT', 'BTC-SNX']\n"
     ]
    }
   ],
   "source": [
    "import pyupbit\n",
    "tickers = pyupbit.get_tickers()\n",
    "print(tickers)"
   ]
  },
  {
   "cell_type": "code",
   "execution_count": 5,
   "metadata": {},
   "outputs": [
    {
     "name": "stdout",
     "output_type": "stream",
     "text": [
      "['KRW-BTC', 'KRW-ETH', 'KRW-NEO', 'KRW-MTL', 'KRW-LTC', 'KRW-XRP', 'KRW-ETC', 'KRW-OMG', 'KRW-SNT', 'KRW-WAVES', 'KRW-XEM', 'KRW-QTUM', 'KRW-LSK', 'KRW-STEEM', 'KRW-XLM', 'KRW-ARDR', 'KRW-KMD', 'KRW-ARK', 'KRW-STORJ', 'KRW-GRS', 'KRW-REP', 'KRW-EMC2', 'KRW-ADA', 'KRW-SBD', 'KRW-POWR', 'KRW-BTG', 'KRW-ICX', 'KRW-EOS', 'KRW-TRX', 'KRW-SC', 'KRW-IGNIS', 'KRW-ONT', 'KRW-ZIL', 'KRW-POLY', 'KRW-ZRX', 'KRW-LOOM', 'KRW-BCH', 'KRW-ADX', 'KRW-BAT', 'KRW-IOST', 'KRW-DMT', 'KRW-RFR', 'KRW-CVC', 'KRW-IQ', 'KRW-IOTA', 'KRW-MFT', 'KRW-ONG', 'KRW-GAS', 'KRW-UPP', 'KRW-ELF', 'KRW-KNC', 'KRW-BSV', 'KRW-THETA', 'KRW-EDR', 'KRW-QKC', 'KRW-BTT', 'KRW-MOC', 'KRW-ENJ', 'KRW-TFUEL', 'KRW-MANA', 'KRW-ANKR', 'KRW-AERGO', 'KRW-ATOM', 'KRW-TT', 'KRW-CRE', 'KRW-SOLVE', 'KRW-MBL', 'KRW-TSHP', 'KRW-WAXP', 'KRW-HBAR', 'KRW-MED', 'KRW-MLK', 'KRW-STPT', 'KRW-ORBS', 'KRW-VET', 'KRW-CHZ', 'KRW-PXL', 'KRW-STMX', 'KRW-DKA', 'KRW-HIVE', 'KRW-KAVA', 'KRW-AHT', 'KRW-LINK', 'KRW-XTZ', 'KRW-BORA', 'KRW-JST', 'KRW-CRO', 'KRW-TON', 'KRW-SXP', 'KRW-LAMB', 'KRW-HUNT', 'KRW-MARO', 'KRW-PLA', 'KRW-DOT', 'KRW-SRM', 'KRW-MVL', 'KRW-PCI', 'KRW-STRAX', 'KRW-AQT', 'KRW-BCHA', 'KRW-GLM', 'KRW-QTCON', 'KRW-SSX', 'KRW-META', 'KRW-OBSR', 'KRW-FCT2', 'KRW-LBC', 'KRW-CBK', 'KRW-SAND', 'KRW-HUM', 'KRW-DOGE', 'KRW-STRK', 'KRW-PUNDIX', 'KRW-FLOW', 'KRW-DAWN', 'KRW-AXS', 'KRW-STX']\n"
     ]
    }
   ],
   "source": [
    "tickers = pyupbit.get_tickers(fiat=\"KRW\")\n",
    "print(tickers)"
   ]
  },
  {
   "cell_type": "code",
   "execution_count": 6,
   "metadata": {},
   "outputs": [
    {
     "name": "stdout",
     "output_type": "stream",
     "text": [
      "67.3\n"
     ]
    }
   ],
   "source": [
    "import pyupbit\n",
    "\n",
    "price = pyupbit.get_current_price(\"KRW-STMX\")\n",
    "print(price)"
   ]
  },
  {
   "cell_type": "code",
   "execution_count": 9,
   "metadata": {},
   "outputs": [
    {
     "name": "stdout",
     "output_type": "stream",
     "text": [
      "{'BTC-XRP': 2.553e-05, 'KRW-XRP': 1770.0}\n"
     ]
    }
   ],
   "source": [
    "price = pyupbit.get_current_price([\"BTC-XRP\", \"KRW-XRP\"])\n",
    "print(price)"
   ]
  },
  {
   "cell_type": "code",
   "execution_count": 10,
   "metadata": {},
   "outputs": [
    {
     "name": "stdout",
     "output_type": "stream",
     "text": [
      "[{'market': 'KRW-BTC', 'timestamp': 1618982998131, 'total_ask_size': 6.04687289, 'total_bid_size': 5.31170967, 'orderbook_units': [{'ask_price': 69328000.0, 'bid_price': 69322000.0, 'ask_size': 0.03395212, 'bid_size': 0.00721157}, {'ask_price': 69345000.0, 'bid_price': 69312000.0, 'ask_size': 0.95558912, 'bid_size': 0.01442772}, {'ask_price': 69364000.0, 'bid_price': 69310000.0, 'ask_size': 0.49447039, 'bid_size': 1.13767329}, {'ask_price': 69370000.0, 'bid_price': 69309000.0, 'ask_size': 0.0084782, 'bid_size': 0.00038497}, {'ask_price': 69373000.0, 'bid_price': 69306000.0, 'ask_size': 0.19848188, 'bid_size': 0.04688098}, {'ask_price': 69382000.0, 'bid_price': 69305000.0, 'ask_size': 0.00061396, 'bid_size': 1.57772489}, {'ask_price': 69384000.0, 'bid_price': 69304000.0, 'ask_size': 0.00432377, 'bid_size': 0.01182418}, {'ask_price': 69387000.0, 'bid_price': 69302000.0, 'ask_size': 0.14200571, 'bid_size': 0.00471188}, {'ask_price': 69392000.0, 'bid_price': 69301000.0, 'ask_size': 0.23604155, 'bid_size': 0.13294595}, {'ask_price': 69393000.0, 'bid_price': 69300000.0, 'ask_size': 0.00124075, 'bid_size': 1.68324231}, {'ask_price': 69394000.0, 'bid_price': 69299000.0, 'ask_size': 0.06148073, 'bid_size': 0.54759387}, {'ask_price': 69400000.0, 'bid_price': 69297000.0, 'ask_size': 0.63812437, 'bid_size': 0.04463296}, {'ask_price': 69404000.0, 'bid_price': 69295000.0, 'ask_size': 0.19794164, 'bid_size': 0.00297701}, {'ask_price': 69409000.0, 'bid_price': 69289000.0, 'ask_size': 1.47372734, 'bid_size': 0.00876913}, {'ask_price': 69410000.0, 'bid_price': 69285000.0, 'ask_size': 1.60040136, 'bid_size': 0.09070896}]}]\n"
     ]
    }
   ],
   "source": [
    "orderbook = pyupbit.get_orderbook(\"KRW-BTC\")\n",
    "print(orderbook)"
   ]
  },
  {
   "cell_type": "code",
   "execution_count": 11,
   "metadata": {},
   "outputs": [
    {
     "name": "stdout",
     "output_type": "stream",
     "text": [
      "[{'currency': 'KRW', 'balance': '0.16043791', 'locked': '0.0', 'avg_buy_price': '0', 'avg_buy_price_modified': True, 'unit_currency': 'KRW'}, {'currency': 'STMX', 'balance': '126458.51692569', 'locked': '0.0', 'avg_buy_price': '81.76', 'avg_buy_price_modified': False, 'unit_currency': 'KRW'}]\n"
     ]
    }
   ],
   "source": [
    "access_key = \"MKuYbNKwSTiwaUu8VJdJkMkbePE4zqdRrLL3VEGP\"\n",
    "secret_key = \"UkRExBsR6dVI3UKCDZ3i7govrpQGrGCTLYWngAGG\"\n",
    "\n",
    "upbit = pyupbit.Upbit(access_key, secret_key)\n",
    "print(upbit.get_balances())"
   ]
  },
  {
   "cell_type": "code",
   "execution_count": 12,
   "metadata": {},
   "outputs": [
    {
     "data": {
      "text/plain": [
       "0"
      ]
     },
     "execution_count": 12,
     "metadata": {},
     "output_type": "execute_result"
    }
   ],
   "source": [
    "import sys\n",
    "from PyQt5.QtWidgets import *\n",
    " \n",
    "\n",
    "class MyWindow(QMainWindow):\n",
    "    def __init__(self):\n",
    "        super().__init__()\n",
    "        self.setGeometry(100, 200, 300, 400)\n",
    "\n",
    "app = QApplication(sys.argv)\n",
    "window = MyWindow()\n",
    "window.show()\n",
    "app.exec_()"
   ]
  },
  {
   "cell_type": "code",
   "execution_count": 14,
   "metadata": {},
   "outputs": [],
   "source": [
    "import sys\n",
    "from PyQt5.QtWidgets import *\n",
    "from PyQt5.QtGui import *\n",
    "\n",
    "\n",
    "class MyWindow(QMainWindow):\n",
    "    def __init__(self):\n",
    "        super().__init__()\n",
    "        self.setGeometry(100, 200, 300, 200)\n",
    "        self.setWindowTitle(\"PyQt\")\n",
    "        self.setWindowIcon(QIcon(\"icon.png\"))"
   ]
  },
  {
   "cell_type": "code",
   "execution_count": 1,
   "metadata": {},
   "outputs": [
    {
     "data": {
      "text/plain": [
       "0"
      ]
     },
     "execution_count": 1,
     "metadata": {},
     "output_type": "execute_result"
    }
   ],
   "source": [
    "import sys\n",
    "from PyQt5.QtWidgets import *\n",
    "from PyQt5 import uic\n",
    " \n",
    "form_class = uic.loadUiType(\"mywindow.ui\")[0]\n",
    " \n",
    "\n",
    "class MyWindow(QMainWindow, form_class):\n",
    "    def __init__(self):\n",
    "        super().__init__()\n",
    "        self.setupUi(self)\n",
    "  \n",
    "  \n",
    "app = QApplication(sys.argv)\n",
    "window = MyWindow()\n",
    "window.show()\n",
    "app.exec_()"
   ]
  },
  {
   "cell_type": "code",
   "execution_count": null,
   "metadata": {},
   "outputs": [],
   "source": [
    "import sys\n",
    "from PyQt5.QtWidgets import *\n",
    "from PyQt5 import uic\n",
    " \n",
    "form_class = uic.loadUiType(\"mywindow.ui\")[0]\n",
    "\n",
    "class MyWindow(QMainWindow, form_class):\n",
    "    def __init__(self):\n",
    "        super().__init__()\n",
    "        self.setupUi(self)\n",
    "        self.pushButton.clicked.connect(self.btn_clicked)\n",
    "\n",
    "    def btn_clicked(self):\n",
    "        print(\"버튼 클릭\")\n",
    "        \n",
    "app = QApplication(sys.argv)\n",
    "window = MyWindow()\n",
    "window.show()\n",
    "app.exec_()"
   ]
  },
  {
   "cell_type": "code",
   "execution_count": null,
   "metadata": {},
   "outputs": [],
   "source": []
  }
 ],
 "metadata": {
  "kernelspec": {
   "display_name": "Python 3",
   "language": "python",
   "name": "python3"
  },
  "language_info": {
   "codemirror_mode": {
    "name": "ipython",
    "version": 3
   },
   "file_extension": ".py",
   "mimetype": "text/x-python",
   "name": "python",
   "nbconvert_exporter": "python",
   "pygments_lexer": "ipython3",
   "version": "3.8.5"
  }
 },
 "nbformat": 4,
 "nbformat_minor": 4
}
