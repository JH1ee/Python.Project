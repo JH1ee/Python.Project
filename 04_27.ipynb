{
 "cells": [
  {
   "cell_type": "code",
   "execution_count": 1,
   "metadata": {},
   "outputs": [
    {
     "ename": "ModuleNotFoundError",
     "evalue": "No module named 'pybithumb'",
     "output_type": "error",
     "traceback": [
      "\u001b[1;31m---------------------------------------------------------------------------\u001b[0m",
      "\u001b[1;31mModuleNotFoundError\u001b[0m                       Traceback (most recent call last)",
      "\u001b[1;32m<ipython-input-1-512e4003c41b>\u001b[0m in \u001b[0;36m<module>\u001b[1;34m\u001b[0m\n\u001b[0;32m      3\u001b[0m \u001b[1;32mfrom\u001b[0m \u001b[0mPyQt5\u001b[0m \u001b[1;32mimport\u001b[0m \u001b[0muic\u001b[0m\u001b[1;33m\u001b[0m\u001b[1;33m\u001b[0m\u001b[0m\n\u001b[0;32m      4\u001b[0m \u001b[1;32mfrom\u001b[0m \u001b[0mPyQt5\u001b[0m\u001b[1;33m.\u001b[0m\u001b[0mQtCore\u001b[0m \u001b[1;32mimport\u001b[0m \u001b[1;33m*\u001b[0m\u001b[1;33m\u001b[0m\u001b[1;33m\u001b[0m\u001b[0m\n\u001b[1;32m----> 5\u001b[1;33m \u001b[1;32mimport\u001b[0m \u001b[0mpybithumb\u001b[0m\u001b[1;33m\u001b[0m\u001b[1;33m\u001b[0m\u001b[0m\n\u001b[0m\u001b[0;32m      6\u001b[0m \u001b[1;32mimport\u001b[0m \u001b[0mtime\u001b[0m\u001b[1;33m\u001b[0m\u001b[1;33m\u001b[0m\u001b[0m\n\u001b[0;32m      7\u001b[0m \u001b[1;33m\u001b[0m\u001b[0m\n",
      "\u001b[1;31mModuleNotFoundError\u001b[0m: No module named 'pybithumb'"
     ]
    }
   ],
   "source": [
    "import sys\n",
    "from PyQt5.QtWidgets import *\n",
    "from PyQt5 import uic\n",
    "from PyQt5.QtCore import *\n",
    "import pybithumb\n",
    "import time\n",
    "\n",
    "tickers = [\"BTC\",\"ETH\",\"BCH\",\"ETC\"]\n",
    "form_class = uic.loadUiType(\"0426/bull.ui\")[0]\n",
    "\n",
    "class Worker(QThread):\n",
    "    finished = pyqtSignal(dict)\n",
    "\n",
    "    def run(self):\n",
    "        while 1:\n",
    "            data = {}\n",
    "\n",
    "            for ticker in tickers:\n",
    "                data[ticker] = self.get_market_infos(ticker)\n",
    " \n",
    "            self.finished.emit(data)\n",
    "            time.sleep(2)\n",
    "\n",
    "    def get_market_infos(self,ticker):\n",
    "        try:\n",
    "            df = pybithumb.get_ohlcv(ticker)\n",
    "            ma5 = df['close'].rolling(window=5).mean()\n",
    "            last_ma5 = ma5[-2]\n",
    "            price = pybithumb.get_current_price(ticker)\n",
    "\n",
    "            state = None\n",
    "            if price > last_ma5:\n",
    "                state = \"상승장\"\n",
    "            else:\n",
    "                state = \"하락장\"\n",
    "\n",
    "            return price, last_ma5, state\n",
    "        except: \n",
    "            return None, None, None\n",
    "class MyWindow(QMainWindow,form_class):\n",
    "    def __init__(self):\n",
    "        super().__init__()\n",
    "        self.setupUi(self)\n",
    "\n",
    "        self.worker = Worker()\n",
    "        self.worker.finished.connect(self.update_table_widget)\n",
    "        self.worker.start()\n",
    "\n",
    "    @pyqtSlot(dict)\n",
    "    def update_table_widget(self,data):\n",
    "        try:\n",
    "            for ticker, infos in data.items():\n",
    "                index = tickers.index(ticker)\n",
    "                self.tableWidget.setItem(index, 0, QTableWidgetItem(ticker))\n",
    "                self.tableWidget.setItem(index, 1, QTableWidgetItem(str(infos[0])))\n",
    "                self.tableWidget.setItem(index, 2, QTableWidgetItem(str(infos[1])))\n",
    "                self.tableWidget.setItem(index, 3, QTableWidgetItem(str(infos[2])))\n",
    "        except:\n",
    "            pass\n",
    "\n",
    "app = QApplication(sys.argv)\n",
    "window = MyWindow()\n",
    "window.show()\n",
    "app.exec_()\n"
   ]
  },
  {
   "cell_type": "code",
   "execution_count": null,
   "metadata": {},
   "outputs": [],
   "source": []
  }
 ],
 "metadata": {
  "kernelspec": {
   "display_name": "Python 3",
   "language": "python",
   "name": "python3"
  },
  "language_info": {
   "codemirror_mode": {
    "name": "ipython",
    "version": 3
   },
   "file_extension": ".py",
   "mimetype": "text/x-python",
   "name": "python",
   "nbconvert_exporter": "python",
   "pygments_lexer": "ipython3",
   "version": "3.8.5"
  }
 },
 "nbformat": 4,
 "nbformat_minor": 4
}
