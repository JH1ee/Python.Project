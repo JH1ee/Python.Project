{
 "cells": [
  {
   "cell_type": "code",
   "execution_count": 1,
   "metadata": {},
   "outputs": [
    {
     "name": "stdout",
     "output_type": "stream",
     "text": [
      "{'KRW-BTC': 69242000.0, 'KRW-XRP': 1770.0}\n",
      "{'KRW-BTC': 69237000.0, 'KRW-XRP': 1765.0}\n",
      "{'KRW-BTC': 69240000.0, 'KRW-XRP': 1770.0}\n",
      "{'KRW-BTC': 69242000.0, 'KRW-XRP': 1770.0}\n",
      "{'KRW-BTC': 69240000.0, 'KRW-XRP': 1770.0}\n",
      "{'KRW-BTC': 69240000.0, 'KRW-XRP': 1765.0}\n",
      "{'KRW-BTC': 69240000.0, 'KRW-XRP': 1765.0}\n",
      "{'KRW-BTC': 69240000.0, 'KRW-XRP': 1770.0}\n",
      "{'KRW-BTC': 69240000.0, 'KRW-XRP': 1765.0}\n",
      "{'KRW-BTC': 69240000.0, 'KRW-XRP': 1765.0}\n"
     ]
    },
    {
     "data": {
      "text/plain": [
       "0"
      ]
     },
     "execution_count": 1,
     "metadata": {},
     "output_type": "execute_result"
    }
   ],
   "source": [
    "import sys\n",
    "from PyQt5.QtWidgets import *\n",
    "from PyQt5 import uic\n",
    "import pyupbit\n",
    " \n",
    "form_class = uic.loadUiType(\"mywindow.ui\")[0]\n",
    "\n",
    "class MyWindow(QMainWindow, form_class):\n",
    "    def __init__(self):\n",
    "        super().__init__()\n",
    "        self.setupUi(self)\n",
    "        self.pushButton.clicked.connect(self.inquiry)\n",
    "\n",
    "    def inquiry(self):\n",
    "        price = pyupbit.get_current_price([\"KRW-BTC\",\"KRW-ETH\"])\n",
    "        print(price)\n",
    "        \n",
    "app = QApplication(sys.argv)\n",
    "window = MyWindow()\n",
    "window.show()\n",
    "app.exec_()\n",
    "\n"
   ]
  },
  {
   "cell_type": "code",
   "execution_count": 1,
   "metadata": {},
   "outputs": [
    {
     "name": "stdout",
     "output_type": "stream",
     "text": [
      "It failed JSONDecodeError\n",
      "TypeError\n",
      "It failed JSONDecodeError\n",
      "TypeError\n"
     ]
    },
    {
     "data": {
      "text/plain": [
       "0"
      ]
     },
     "execution_count": 1,
     "metadata": {},
     "output_type": "execute_result"
    }
   ],
   "source": [
    "import sys\n",
    "from PyQt5.QtWidgets import *\n",
    "from PyQt5 import uic\n",
    "import pyupbit\n",
    "\n",
    "form_class = uic.loadUiType(\"mywindow.ui\")[0]\n",
    "\n",
    "class MyWindow(QMainWindow, form_class):\n",
    "    def __init__(self):\n",
    "        super().__init__()\n",
    "        self.setupUi(self)\n",
    "        self.pushButton.clicked.connect(self.inquiry)\n",
    "    def inquiry(self):\n",
    "        btc_price = pyupbit.get_current_price(\"KRW-BTC\")\n",
    "        eth_price = pyupbit.get_current_price(\"KRW-ETH\")\n",
    "        self.lineEdit.setText(str(btc_price))\n",
    "        self.lineEdit_2.setText(str(eth_price)) \n",
    "        \n",
    "\n",
    "app = QApplication(sys.argv)\n",
    "window = MyWindow()\n",
    "window.show()\n",
    "app.exec_()\n"
   ]
  },
  {
   "cell_type": "code",
   "execution_count": null,
   "metadata": {},
   "outputs": [],
   "source": []
  },
  {
   "cell_type": "code",
   "execution_count": null,
   "metadata": {},
   "outputs": [],
   "source": []
  }
 ],
 "metadata": {
  "kernelspec": {
   "display_name": "Python 3",
   "language": "python",
   "name": "python3"
  },
  "language_info": {
   "codemirror_mode": {
    "name": "ipython",
    "version": 3
   },
   "file_extension": ".py",
   "mimetype": "text/x-python",
   "name": "python",
   "nbconvert_exporter": "python",
   "pygments_lexer": "ipython3",
   "version": "3.8.5"
  }
 },
 "nbformat": 4,
 "nbformat_minor": 4
}
